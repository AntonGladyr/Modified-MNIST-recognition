{
  "nbformat": 4,
  "nbformat_minor": 0,
  "metadata": {
    "colab": {
      "name": "Final solution",
      "provenance": [],
      "collapsed_sections": [],
      "machine_shape": "hm",
      "include_colab_link": true
    },
    "kernelspec": {
      "name": "python3",
      "display_name": "Python 3"
    },
    "accelerator": "GPU"
  },
  "cells": [
    {
      "cell_type": "markdown",
      "metadata": {
        "id": "view-in-github",
        "colab_type": "text"
      },
      "source": [
        "<a href=\"https://colab.research.google.com/github/sbakhit/Modified-MNIST/blob/master/Final_solution.ipynb\" target=\"_parent\"><img src=\"https://colab.research.google.com/assets/colab-badge.svg\" alt=\"Open In Colab\"/></a>"
      ]
    },
    {
      "cell_type": "code",
      "metadata": {
        "id": "7nJ47ABzStdv",
        "colab_type": "code",
        "outputId": "071e22fd-c86e-43b2-d461-a0e3dc881758",
        "colab": {
          "base_uri": "https://localhost:8080/",
          "height": 122
        }
      },
      "source": [
        "from google.colab import drive\n",
        "drive.mount('/content/drive')"
      ],
      "execution_count": 0,
      "outputs": [
        {
          "output_type": "stream",
          "text": [
            "Go to this URL in a browser: https://accounts.google.com/o/oauth2/auth?client_id=947318989803-6bn6qk8qdgf4n4g3pfee6491hc0brc4i.apps.googleusercontent.com&redirect_uri=urn%3Aietf%3Awg%3Aoauth%3A2.0%3Aoob&scope=email%20https%3A%2F%2Fwww.googleapis.com%2Fauth%2Fdocs.test%20https%3A%2F%2Fwww.googleapis.com%2Fauth%2Fdrive%20https%3A%2F%2Fwww.googleapis.com%2Fauth%2Fdrive.photos.readonly%20https%3A%2F%2Fwww.googleapis.com%2Fauth%2Fpeopleapi.readonly&response_type=code\n",
            "\n",
            "Enter your authorization code:\n",
            "··········\n",
            "Mounted at /content/drive\n"
          ],
          "name": "stdout"
        }
      ]
    },
    {
      "cell_type": "code",
      "metadata": {
        "id": "BUsWBmaBg52B",
        "colab_type": "code",
        "colab": {}
      },
      "source": [
        "import torch.nn as nn\n",
        "\n",
        "\n",
        "class Net(nn.Module):\n",
        "    def __init__(self, num_classes=10):\n",
        "        super(Net, self).__init__()\n",
        "        # Defining a 2D convolution layer\n",
        "        self.layer1 = nn.Sequential(\n",
        "            nn.Conv2d(1, 32, kernel_size=3, stride=1),\n",
        "            nn.BatchNorm2d(32),\n",
        "            nn.ReLU())\n",
        "        self.layer2 = nn.Sequential(\n",
        "            nn.Conv2d(32, 32, kernel_size=3, stride=1),\n",
        "            nn.BatchNorm2d(32),\n",
        "            nn.ReLU(),\n",
        "            nn.MaxPool2d(kernel_size=2, stride=2))\n",
        "        self.layer3 = nn.Sequential(\n",
        "            nn.Conv2d(32, 64, kernel_size=3, stride=1),\n",
        "            nn.BatchNorm2d(64),\n",
        "            nn.ReLU())\n",
        "        self.layer4 = nn.Sequential(\n",
        "            nn.Conv2d(64, 64, kernel_size=3, stride=1),\n",
        "            nn.BatchNorm2d(64),\n",
        "            nn.ReLU(),\n",
        "            nn.MaxPool2d(kernel_size=2, stride=2))\n",
        "        self.layer5 = nn.Sequential(\n",
        "            nn.Conv2d(64, 128, kernel_size=3, stride=1),\n",
        "            nn.BatchNorm2d(128),\n",
        "            nn.ReLU())\n",
        "        self.layer6 = nn.Sequential(\n",
        "            nn.Conv2d(128, 128, kernel_size=3, stride=1),\n",
        "            nn.BatchNorm2d(128),\n",
        "            nn.ReLU())\n",
        "        self.layer7 = nn.Sequential(\n",
        "            nn.Conv2d(128, 128, kernel_size=3, stride=1),\n",
        "            nn.BatchNorm2d(128),\n",
        "            nn.ReLU())\n",
        "        self.layer8 = nn.Sequential(\n",
        "            nn.Conv2d(128, 128, kernel_size=3, stride=1),\n",
        "            nn.BatchNorm2d(128),\n",
        "            nn.ReLU(),\n",
        "            nn.MaxPool2d(kernel_size=2, stride=2))\n",
        "        self.layer9 = nn.Sequential(\n",
        "            nn.Conv2d(128, 256, kernel_size=3, stride=1),\n",
        "            nn.BatchNorm2d(256),\n",
        "            nn.ReLU())\n",
        "        self.layer10 = nn.Sequential(\n",
        "            nn.Conv2d(256, 256, kernel_size=3, stride=1),\n",
        "            nn.BatchNorm2d(256),\n",
        "            nn.ReLU())\n",
        "        self.layer11 = nn.Sequential(\n",
        "            nn.Conv2d(256, 256, kernel_size=3, stride=1),\n",
        "            nn.BatchNorm2d(256),\n",
        "            nn.ReLU())\n",
        "        self.layer12 = nn.Sequential(\n",
        "            nn.Conv2d(256, 256, kernel_size=3, stride=1),\n",
        "            nn.BatchNorm2d(256),\n",
        "            nn.ReLU(),\n",
        "            nn.MaxPool2d(kernel_size=2, stride=2))\n",
        "        \n",
        "        self.drop_out = nn.Dropout()\n",
        "\n",
        "        # Defining another 2D convolution layer\n",
        "        self.fc1 = nn.Sequential(\n",
        "            nn.Linear(1*1*256, 4096)\n",
        "        )\n",
        "        self.fc2 = nn.Sequential(\n",
        "            nn.Linear(4096, 256)\n",
        "        )\n",
        "        self.fc3 = nn.Sequential(\n",
        "            nn.Linear(256, num_classes)\n",
        "        )\n",
        "\n",
        "    def forward(self, x):\n",
        "        out = self.layer1(x)\n",
        "        out = self.layer2(out)\n",
        "        out = self.layer3(out)\n",
        "        out = self.layer4(out)\n",
        "        out = self.layer5(out)\n",
        "        out = self.layer6(out)\n",
        "        out = self.layer7(out)\n",
        "        out = self.layer8(out)\n",
        "        out = self.layer9(out)\n",
        "        out = self.layer10(out)\n",
        "        out = self.layer11(out)\n",
        "        out = self.layer12(out)\n",
        "        out = out.reshape(out.size(0), -1)\n",
        "        out = self.drop_out(out)\n",
        "        out = self.fc1(out)\n",
        "        out = self.fc2(out)\n",
        "        out = self.fc3(out)\n",
        "        return out\n"
      ],
      "execution_count": 0,
      "outputs": []
    },
    {
      "cell_type": "code",
      "metadata": {
        "id": "_o-TGbFWTQ49",
        "colab_type": "code",
        "outputId": "280d951a-6c5f-4411-b88e-ff66ade486d7",
        "colab": {
          "base_uri": "https://localhost:8080/",
          "height": 995
        }
      },
      "source": [
        "#!/usr/bin/env python3\n",
        "\n",
        "# FOR TESTING ON VALIDATION DATASET\n",
        "\n",
        "import numpy as np\n",
        "import torch\n",
        "import pandas as pd\n",
        "import cv2\n",
        "import inspect\n",
        "import matplotlib.pyplot as plt\n",
        "from torch import nn, optim\n",
        "from time import time\n",
        "from sklearn.model_selection import train_test_split\n",
        "from sklearn.metrics import precision_score, recall_score, f1_score, accuracy_score\n",
        "from tqdm.autonotebook import tqdm\n",
        "from torch.autograd import Variable\n",
        "from matplotlib import pyplot as plt\n",
        "\n",
        "# number of times we iterate over the training set\n",
        "EPOCHS = 5\n",
        "LEARNING_RATE = 0.001\n",
        "BATCH_SIZE = 256\n",
        "TRAIN_PATH = '/content/drive/My Drive/McGill/comp551/data/train_max_x'\n",
        "TEST_PATH = '/content/drive/My Drive/McGill/comp551/data/test_max_x'\n",
        "TARGETS_PATH = '/content/drive/My Drive/McGill/comp551/data/train_max_y.csv'\n",
        "THRESH = 240\n",
        "\n",
        "# Device configuration\n",
        "device = torch.device('cuda:0' if torch.cuda.is_available() else 'cpu')\n",
        "\n",
        "def calculate_metric(metric_fn, true_y, pred_y):\n",
        "    # multi class problems need to have averaging method\n",
        "    if \"average\" in inspect.getfullargspec(metric_fn).args:\n",
        "        return metric_fn(true_y, pred_y, average=\"macro\")\n",
        "    else:\n",
        "        return metric_fn(true_y, pred_y)\n",
        "    \n",
        "def print_scores(p, r, f1, a, batch_size):\n",
        "    # just an utility printing function\n",
        "    for name, scores in zip((\"precision\", \"recall\", \"F1\", \"accuracy\"), (p, r, f1, a)):\n",
        "        print(f\"\\t{name.rjust(14, ' ')}: {sum(scores)/batch_size:.4f}\")\n",
        "\n",
        "\n",
        "def main():\n",
        "    print('torch.cuda.device_count(): {0}'.format(torch.cuda.device_count()))\n",
        "    print('torch.cuda.get_device_name: {0}'.format(torch.cuda.get_device_name(0)))\n",
        "    # load images as a numpy array\n",
        "    train_dataset = np.array(np.load(TRAIN_PATH, allow_pickle=True))\n",
        "    train_dataset = np.array([cv2.threshold(i, THRESH, 255, cv2.THRESH_BINARY)[1] for i in train_dataset])\n",
        "    train_dataset = train_dataset / 255.0\n",
        "\n",
        "    targets = pd.read_csv(TARGETS_PATH, delimiter=',', skipinitialspace=True)\n",
        "    targets = targets.to_numpy()\n",
        "    # remove id column\n",
        "    targets = targets[:, 1]\n",
        "    targets = targets.astype(int)\n",
        "\n",
        "    X_train, X_test, y_train, y_test = train_test_split(train_dataset, targets, test_size=0.2, random_state=42)\n",
        "    # Clean memory\n",
        "    len_train_dataset = len(X_train)\n",
        "    train_dataset = None\n",
        "    targets = None\n",
        "\n",
        "    X_train = torch.from_numpy(X_train)\n",
        "    y_train = torch.from_numpy(y_train)\n",
        "    X_test = torch.from_numpy(X_test)\n",
        "    y_test = torch.from_numpy(y_test)\n",
        "    y_train = y_train.long()\n",
        "    y_test = y_test.long()\n",
        "\n",
        "    X_train = X_train.reshape(X_train.shape[0], 1, X_train.shape[1], X_train.shape[2])\n",
        "    X_test = X_test.reshape(X_test.shape[0], 1, X_test.shape[1], X_test.shape[2])\n",
        "\n",
        "    train_dataset = torch.utils.data.TensorDataset(X_train,y_train)\n",
        "    train_loader = torch.utils.data.DataLoader(train_dataset, batch_size=BATCH_SIZE, num_workers=8)\n",
        "    test_dataset = torch.utils.data.TensorDataset(X_test,y_test)\n",
        "    test_loader = torch.utils.data.DataLoader(test_dataset, batch_size=BATCH_SIZE, num_workers=8)\n",
        "\n",
        "    # defining the model\n",
        "    model = Net().to(device)\n",
        "\n",
        "    criterion = nn.CrossEntropyLoss()\n",
        "    # optimizer = optim.SGD(model.parameters(), lr=0.001, momentum=0.9)\n",
        "    optimizer = torch.optim.Adam(model.parameters(), lr=LEARNING_RATE)\n",
        "\n",
        "    time0 = time()\n",
        "    batches = len(train_loader)\n",
        "    val_batches = len(test_loader)\n",
        "    train_losses_arr = []\n",
        "    val_losses_arr = []\n",
        "    train_acc_arr = []\n",
        "    val_acc_arr = []\n",
        "\n",
        "    for e in range(EPOCHS):\n",
        "      running_loss = 0.0\n",
        "      # progress bar (works in Jupyter notebook too!)\n",
        "      progress = tqdm(enumerate(train_loader), desc=\"Loss: \", total=batches)\n",
        "\n",
        "      # set model to training\n",
        "      model.train()\n",
        "      correct = 0\n",
        "      total = 0\n",
        "      for i, data in enumerate(train_loader, 0):\n",
        "        inputs, labels = data\n",
        "        inputs, labels = inputs.to(device), labels.to(device)\n",
        "\n",
        "        # clearing the Gradients of the model parameters\n",
        "        optimizer.zero_grad()\n",
        "\n",
        "        # prediction for training\n",
        "        output_train = model(inputs)\n",
        "        \n",
        "        # computing the training loss\n",
        "        loss_train = criterion(output_train, labels)\n",
        "\n",
        "        # computing the updated weights of all the model parameters\n",
        "        loss_train.backward()\n",
        "\n",
        "        # And optimizes its weights here\n",
        "        optimizer.step()\n",
        "\n",
        "        running_loss += loss_train.item()\n",
        "\n",
        "        _, predicted = torch.max(output_train.data, 1)\n",
        "        total += labels.size(0)\n",
        "        correct += (predicted == labels).sum().item()\n",
        "\n",
        "        # updating progress bar\n",
        "        progress.set_description(\"Loss: {:.4f}\".format(running_loss/(i+1)))\n",
        "\n",
        "      # releasing unceseccary memory in GPU\n",
        "      if torch.cuda.is_available():\n",
        "          torch.cuda.empty_cache()\n",
        "\n",
        "      # ----------------- VALIDATION  ----------------- \n",
        "      val_loss = 0\n",
        "      precision, recall, f1, accuracy = [], [], [], []\n",
        "      \n",
        "      # set model to evaluating (testing)\n",
        "      model.eval()\n",
        "\n",
        "      # prediction for validation set\n",
        "      # correct = 0\n",
        "      # total = 0\n",
        "      with torch.no_grad():\n",
        "        for data in test_loader:\n",
        "            images, labels = data\n",
        "            images, labels = images.to(device), labels.to(device)\n",
        "            output = model(images)\n",
        "            val_loss += criterion(output, labels)\n",
        "            _, predicted = torch.max(output.data, 1)\n",
        "            # total += labels.size(0)\n",
        "            # correct += (predicted == labels).sum().item()\n",
        "            \n",
        "            for acc, metric in zip((precision, recall, f1, accuracy), \n",
        "                                   (precision_score, recall_score, f1_score, accuracy_score)):\n",
        "                acc.append(\n",
        "                    calculate_metric(metric, labels.cpu(), predicted.cpu())\n",
        "                )\n",
        "      # print(\"Epoch {} - Training loss: {} - Validation accuracy: {}\".format(e, running_loss / len_train_dataset, 100 * correct / total))\n",
        "      train_acc = correct/total\n",
        "      val_acc = sum(accuracy)/len(accuracy)\n",
        "      print(f\"Epoch {e+1}/{EPOCHS}, training accuarcy: {train_acc}, validation accuarcy: {val_acc}\")\n",
        "      print(f\"Epoch {e+1}/{EPOCHS}, training loss: {running_loss/batches}, validation loss: {val_loss/val_batches}\")\n",
        "      print_scores(precision, recall, f1, accuracy, val_batches)\n",
        "      train_losses_arr.append(running_loss/batches) # for plotting learning curve\n",
        "      val_losses_arr.append(val_loss/val_batches)\n",
        "      train_acc_arr.append(train_acc)\n",
        "      val_acc_arr.append(val_acc)\n",
        "\n",
        "    print(\"\\nTraining Time (in minutes) =\", (time() - time0) / 60)\n",
        "\n",
        "    plt.subplot(1, 2, 1)\n",
        "    plt.plot(train_acc_arr)\n",
        "    plt.plot(val_acc_arr)\n",
        "    plt.title('Model accuracy')\n",
        "    plt.xlabel('Epochs')\n",
        "    plt.legend(['training set', 'validation set'], loc='upper right')\n",
        "\n",
        "    plt.subplot(1, 2, 2)\n",
        "    plt.plot(train_losses_arr)\n",
        "    plt.plot(val_losses_arr)\n",
        "    plt.title('Model loss')\n",
        "    plt.xlabel('Epochs')\n",
        "    plt.legend(['training set', 'validation set'], loc='upper right')\n",
        "\n",
        "    plt.show()\n",
        "    # # accuracy on validation set\n",
        "    # print(\"\\nModel Accuracy =\", (100 * correct / total))\n",
        "\n",
        "\n",
        "if __name__ == '__main__':\n",
        "    main()"
      ],
      "execution_count": 2,
      "outputs": [
        {
          "output_type": "stream",
          "text": [
            "/usr/local/lib/python3.6/dist-packages/tqdm/autonotebook/__init__.py:14: TqdmExperimentalWarning: Using `tqdm.autonotebook.tqdm` in notebook mode. Use `tqdm.tqdm` instead to force console mode (e.g. in jupyter console)\n",
            "  \" (e.g. in jupyter console)\", TqdmExperimentalWarning)\n"
          ],
          "name": "stderr"
        },
        {
          "output_type": "stream",
          "text": [
            "torch.cuda.device_count(): 1\n",
            "torch.cuda.get_device_name: Tesla P100-PCIE-16GB\n"
          ],
          "name": "stdout"
        },
        {
          "output_type": "display_data",
          "data": {
            "application/vnd.jupyter.widget-view+json": {
              "model_id": "eb511bba45274a31a8ea086d76d129e3",
              "version_minor": 0,
              "version_major": 2
            },
            "text/plain": [
              "HBox(children=(IntProgress(value=0, description='Loss: ', max=157, style=ProgressStyle(description_width='init…"
            ]
          },
          "metadata": {
            "tags": []
          }
        },
        {
          "output_type": "stream",
          "text": [
            "/usr/local/lib/python3.6/dist-packages/sklearn/metrics/classification.py:1437: UndefinedMetricWarning: Precision is ill-defined and being set to 0.0 in labels with no predicted samples.\n",
            "  'precision', 'predicted', average, warn_for)\n",
            "/usr/local/lib/python3.6/dist-packages/sklearn/metrics/classification.py:1437: UndefinedMetricWarning: F-score is ill-defined and being set to 0.0 in labels with no predicted samples.\n",
            "  'precision', 'predicted', average, warn_for)\n"
          ],
          "name": "stderr"
        },
        {
          "output_type": "stream",
          "text": [
            "Epoch 1/5, training accuarcy: 0.2476, validation accuarcy: 0.26728515625\n",
            "Epoch 1/5, training loss: 2.143241482175839, validation loss: 1.9029273986816406\n",
            "\t     precision: 0.0302\n",
            "\t        recall: 0.1131\n",
            "\t            F1: 0.0475\n",
            "\t      accuracy: 0.2673\n"
          ],
          "name": "stdout"
        },
        {
          "output_type": "display_data",
          "data": {
            "application/vnd.jupyter.widget-view+json": {
              "model_id": "756fb389d15047e1912aa605654c5a01",
              "version_minor": 0,
              "version_major": 2
            },
            "text/plain": [
              "HBox(children=(IntProgress(value=0, description='Loss: ', max=157, style=ProgressStyle(description_width='init…"
            ]
          },
          "metadata": {
            "tags": []
          }
        },
        {
          "output_type": "stream",
          "text": [
            "Epoch 2/5, training accuarcy: 0.26115, validation accuarcy: 0.26728515625\n",
            "Epoch 2/5, training loss: 1.941535050701943, validation loss: 1.9046478271484375\n",
            "\t     precision: 0.0302\n",
            "\t        recall: 0.1131\n",
            "\t            F1: 0.0475\n",
            "\t      accuracy: 0.2673\n"
          ],
          "name": "stdout"
        },
        {
          "output_type": "display_data",
          "data": {
            "application/vnd.jupyter.widget-view+json": {
              "model_id": "3c065f26fe324b0890332f1227b713b8",
              "version_minor": 0,
              "version_major": 2
            },
            "text/plain": [
              "HBox(children=(IntProgress(value=0, description='Loss: ', max=157, style=ProgressStyle(description_width='init…"
            ]
          },
          "metadata": {
            "tags": []
          }
        },
        {
          "output_type": "stream",
          "text": [
            "Epoch 3/5, training accuarcy: 0.262825, validation accuarcy: 0.266015625\n",
            "Epoch 3/5, training loss: 1.9073433192672244, validation loss: 1.9044840335845947\n",
            "\t     precision: 0.0506\n",
            "\t        recall: 0.1128\n",
            "\t            F1: 0.0502\n",
            "\t      accuracy: 0.2660\n"
          ],
          "name": "stdout"
        },
        {
          "output_type": "display_data",
          "data": {
            "application/vnd.jupyter.widget-view+json": {
              "model_id": "ad3a0c24042a404a859bb3a1f82c533e",
              "version_minor": 0,
              "version_major": 2
            },
            "text/plain": [
              "HBox(children=(IntProgress(value=0, description='Loss: ', max=157, style=ProgressStyle(description_width='init…"
            ]
          },
          "metadata": {
            "tags": []
          }
        },
        {
          "output_type": "stream",
          "text": [
            "Epoch 4/5, training accuarcy: 0.2682, validation accuarcy: 0.25048828125\n",
            "Epoch 4/5, training loss: 1.8908931442127106, validation loss: 2.1366405487060547\n",
            "\t     precision: 0.0569\n",
            "\t        recall: 0.1202\n",
            "\t            F1: 0.0769\n",
            "\t      accuracy: 0.2505\n"
          ],
          "name": "stdout"
        },
        {
          "output_type": "display_data",
          "data": {
            "application/vnd.jupyter.widget-view+json": {
              "model_id": "98d719e37d9449daacca73b5bc030c0a",
              "version_minor": 0,
              "version_major": 2
            },
            "text/plain": [
              "HBox(children=(IntProgress(value=0, description='Loss: ', max=157, style=ProgressStyle(description_width='init…"
            ]
          },
          "metadata": {
            "tags": []
          }
        },
        {
          "output_type": "stream",
          "text": [
            "Epoch 5/5, training accuarcy: 0.36355, validation accuarcy: 0.37578125\n",
            "Epoch 5/5, training loss: 1.6731287415619869, validation loss: 1.7097539901733398\n",
            "\t     precision: 0.1541\n",
            "\t        recall: 0.2135\n",
            "\t            F1: 0.1731\n",
            "\t      accuracy: 0.3758\n",
            "\n",
            "Training Time (in minutes) = 4.192777256170909\n"
          ],
          "name": "stdout"
        },
        {
          "output_type": "display_data",
          "data": {
            "image/png": "[encoded data removed]",
            "text/plain": [
              "<Figure size 432x288 with 2 Axes>"
            ]
          },
          "metadata": {
            "tags": []
          }
        }
      ]
    },
    {
      "cell_type": "code",
      "metadata": {
        "id": "bxSoaYACAd1t",
        "colab_type": "code",
        "outputId": "4e4ba26e-08ac-4564-e2a4-7a9818c9fc45",
        "colab": {
          "base_uri": "https://localhost:8080/",
          "height": 221
        }
      },
      "source": [
        "#!/usr/bin/env python3\n",
        "\n",
        "# FOR MAKING PREDICTIONS ON TEST SET AND SAVING TO CSV\n",
        "\n",
        "import numpy as np\n",
        "import torch\n",
        "import pandas as pd\n",
        "import cv2\n",
        "import shutil\n",
        "from torch import nn, optim\n",
        "from time import time\n",
        "from sklearn.model_selection import train_test_split\n",
        "from torch.autograd import Variable\n",
        "from matplotlib import pyplot as plt\n",
        "\n",
        "# number of times we iterate over the training set\n",
        "EPOCHS = 100\n",
        "LEARNING_RATE = 0.001\n",
        "BATCH_SIZE = 672\n",
        "TRAIN_PATH = '/content/drive/My Drive/McGill/comp551/data/train_max_x'\n",
        "TEST_PATH = '/content/drive/My Drive/McGill/comp551/data/test_max_x'\n",
        "TARGETS_PATH = '/content/drive/My Drive/McGill/comp551/data/train_max_y.csv'\n",
        "THRESH = 240\n",
        "\n",
        "# Device configuration\n",
        "device = torch.device('cuda:0' if torch.cuda.is_available() else 'cpu')\n",
        "\n",
        "\n",
        "def main():\n",
        "    print('torch.cuda.device_count(): {0}'.format(torch.cuda.device_count()))\n",
        "    print('torch.cuda.get_device_name: {0}'.format(torch.cuda.get_device_name(0)))\n",
        "    # load images as a numpy array\n",
        "    X_train = np.array(np.load(TRAIN_PATH, allow_pickle=True))\n",
        "    X_train = np.array([cv2.threshold(i, THRESH, 255, cv2.THRESH_BINARY)[1] for i in X_train])\n",
        "    X_train = X_train / 255.0\n",
        "\n",
        "    X_test = np.array(np.load(TEST_PATH, allow_pickle=True))\n",
        "    X_test = np.array([cv2.threshold(i, THRESH, 255, cv2.THRESH_BINARY)[1] for i in X_test])\n",
        "    X_test = X_test / 255.0\n",
        "\n",
        "    y_train = pd.read_csv(TARGETS_PATH, delimiter=',', skipinitialspace=True)\n",
        "    y_train = y_train.to_numpy()\n",
        "    # remove id column\n",
        "    y_train = y_train[:, 1]\n",
        "    y_train = y_train.astype(int)\n",
        "\n",
        "    # Clean memory\n",
        "    len_train_dataset = len(X_train)\n",
        "\n",
        "    X_train = torch.from_numpy(X_train)\n",
        "    y_train = torch.from_numpy(y_train)\n",
        "    X_test = torch.from_numpy(X_test)\n",
        "    y_train = y_train.long()\n",
        "\n",
        "    X_train = X_train.reshape(X_train.shape[0], 1, X_train.shape[1], X_train.shape[2])\n",
        "    X_test = X_test.reshape(X_test.shape[0], 1, X_test.shape[1], X_test.shape[2])\n",
        "\n",
        "    train_dataset = torch.utils.data.TensorDataset(X_train,y_train)\n",
        "    train_loader = torch.utils.data.DataLoader(train_dataset, batch_size=BATCH_SIZE, num_workers=8)\n",
        "    test_loader = torch.utils.data.DataLoader(X_test, batch_size=BATCH_SIZE, num_workers=8)\n",
        "\n",
        "    # defining the model\n",
        "    model = Net().to(device)\n",
        "\n",
        "    criterion = nn.CrossEntropyLoss()\n",
        "    # optimizer = optim.SGD(model.parameters(), lr=0.001, momentum=0.9)\n",
        "    optimizer = torch.optim.Adam(model.parameters(), lr=LEARNING_RATE)\n",
        "\n",
        "    time0 = time()\n",
        "\n",
        "    for e in range(EPOCHS):\n",
        "      running_loss = 0.0\n",
        "      for i, data in enumerate(train_loader, 0):\n",
        "        inputs, labels = data\n",
        "        inputs, labels = inputs.to(device), labels.to(device)\n",
        "\n",
        "        # clearing the Gradients of the model parameters\n",
        "        optimizer.zero_grad()\n",
        "\n",
        "        # prediction for training\n",
        "        output_train = model(inputs)\n",
        "        \n",
        "        # computing the training loss\n",
        "        loss_train = criterion(output_train, labels)\n",
        "\n",
        "        # computing the updated weights of all the model parameters\n",
        "        loss_train.backward()\n",
        "\n",
        "        # And optimizes its weights here\n",
        "        optimizer.step()\n",
        "\n",
        "        running_loss += loss_train.item()\n",
        "      else:\n",
        "            print(\"Epoch {} - Training loss: {}\".format(e, running_loss / len_train_dataset))\n",
        "\n",
        "    print(\"\\nTraining Time (in minutes) =\", (time() - time0) / 60)\n",
        "\n",
        "    # prediction for test set\n",
        "    predictions = np.array([])\n",
        "    with torch.no_grad():\n",
        "      for images in test_loader:\n",
        "        images = images.to(device)\n",
        "        output = model(images)\n",
        "        _, predicted = torch.max(output.data, 1)\n",
        "        predictions = np.append(predictions, predicted.cpu().numpy())\n",
        "\n",
        "    predictions = predictions.astype(int)\n",
        "    Id = list(range(0, 10000))\n",
        "    Id = np.asarray(Id)\n",
        "    results = pd.DataFrame({'Id': Id, 'Label': predictions}, columns=['Id', 'Label'])\n",
        "    from google.colab import files\n",
        "    results.to_csv('predictions.csv', index=False)\n",
        "    shutil.move(\"/content/predictions.csv\", \"/content/drive/My Drive/McGill/comp551/predictions.csv\")\n",
        "    print('Results have been saved to predictions.csv')\n",
        "\n",
        "if __name__ == '__main__':\n",
        "    main()"
      ],
      "execution_count": 0,
      "outputs": [
        {
          "output_type": "stream",
          "text": [
            "torch.cuda.device_count(): 1\n",
            "torch.cuda.get_device_name: Tesla P100-PCIE-16GB\n",
            "Epoch 0 - Training loss: 0.0032704003858566285\n",
            "Epoch 1 - Training loss: 0.0029089065623283386\n",
            "Epoch 2 - Training loss: 0.002827518105506897\n",
            "Epoch 3 - Training loss: 0.0024329508543014526\n",
            "Epoch 4 - Training loss: 0.002178996772766113\n",
            "Epoch 5 - Training loss: 0.0019570931363105774\n",
            "Epoch 6 - Training loss: 0.0015498412847518921\n",
            "Epoch 7 - Training loss: 0.0011921281003952025\n",
            "Epoch 8 - Training loss: 0.0009742726159095764\n",
            "Epoch 9 - Training loss: 0.000797192497253418\n"
          ],
          "name": "stdout"
        }
      ]
    }
  ]
}