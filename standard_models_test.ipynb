{
  "nbformat": 4,
  "nbformat_minor": 0,
  "metadata": {
    "colab": {
      "name": "Untitled1.ipynb",
      "provenance": [],
      "collapsed_sections": []
    },
    "kernelspec": {
      "name": "python3",
      "display_name": "Python 3"
    }
  },
  "cells": [
    {
      "cell_type": "code",
      "metadata": {
        "id": "K8ezIWcneYzd",
        "colab_type": "code",
        "outputId": "c9c61f0a-0481-45c9-b985-5c121feef260",
        "colab": {
          "base_uri": "https://localhost:8080/",
          "height": 54
        }
      },
      "source": [
        "from google.colab import drive\n",
        "drive.mount('/content/drive')"
      ],
      "execution_count": 0,
      "outputs": [
        {
          "output_type": "stream",
          "text": [
            "Drive already mounted at /content/drive; to attempt to forcibly remount, call drive.mount(\"/content/drive\", force_remount=True).\n"
          ],
          "name": "stdout"
        }
      ]
    },
    {
      "cell_type": "code",
      "metadata": {
        "id": "wVd0dtcdebLh",
        "colab_type": "code",
        "outputId": "c6f7bafc-014c-4059-c101-ac71166b11ee",
        "colab": {
          "base_uri": "https://localhost:8080/",
          "height": 1000
        }
      },
      "source": [
        "import numpy as np\n",
        "import pandas as pd\n",
        "import cv2\n",
        "from time import time\n",
        "from sklearn.model_selection import train_test_split\n",
        "from scipy.sparse import csr_matrix\n",
        "from sklearn.metrics import f1_score, confusion_matrix, accuracy_score\n",
        "from sklearn.linear_model import LogisticRegression\n",
        "from sklearn.naive_bayes import BernoulliNB, ComplementNB, MultinomialNB\n",
        "from sklearn.tree import DecisionTreeClassifier\n",
        "from sklearn.svm import LinearSVC\n",
        "from sklearn.ensemble import VotingClassifier, RandomForestClassifier\n",
        "from sklearn import model_selection\n",
        "\n",
        "TRAIN_PATH = '/content/drive/My Drive/comp551/data/train_max_x'\n",
        "TARGETS_PATH = '/content/drive/My Drive/comp551/data/train_max_y.csv'\n",
        "THRESH = 240\n",
        "\n",
        "print('Standard models:')\n",
        "# load images as a numpy array\n",
        "train_dataset = np.array(np.load(TRAIN_PATH, allow_pickle=True))\n",
        "train_dataset = np.array([cv2.threshold(i, THRESH, 255, cv2.THRESH_BINARY)[1] for i in train_dataset])\n",
        "train_dataset = train_dataset / 255.0\n",
        "\n",
        "nsamples, nx, ny = train_dataset.shape\n",
        "train_dataset = train_dataset.reshape((nsamples,nx*ny)) # reshape the array into a 2d\n",
        "\n",
        "targets = pd.read_csv(TARGETS_PATH, delimiter=',', skipinitialspace=True)\n",
        "targets = targets.to_numpy()\n",
        "# remove id column\n",
        "targets = targets[:, 1]\n",
        "targets = targets.astype(int)\n",
        "\n",
        "X_train, X_test, y_train, y_test = train_test_split(train_dataset, targets, test_size=0.2, random_state=42)\n",
        "X_train = csr_matrix(X_train)\n",
        "X_test = csr_matrix(X_test)\n",
        "# Clean memory\n",
        "train_dataset = None\n",
        "targets = None\n",
        "\n",
        "LR = LogisticRegression(random_state=0, solver='saga', multi_class='multinomial').fit(X_train, y_train)\n",
        "y_pred = LR.predict(X_test)\n",
        "print(\"Logistic Regression\")\n",
        "print(confusion_matrix(y_test, y_pred))\n",
        "print(\"Accuracy = \", accuracy_score(y_test, y_pred))\n",
        "print(\"f1_score = \", f1_score(y_test, y_pred, average='micro'))\n",
        "print(\"-------------------------------\")\n",
        "\n",
        "MB = MultinomialNB(alpha=0.4, fit_prior=True, class_prior=None).fit(X_train, y_train)\n",
        "y_pred = MB.predict(X_test)\n",
        "print(\"Multinomial NB\")\n",
        "print(confusion_matrix(y_test, y_pred))\n",
        "print(\"Accuracy = \", accuracy_score(y_test, y_pred))\n",
        "print(\"f1_score = \", f1_score(y_test, y_pred, average='micro'))\n",
        "print(\"-------------------------------\")\n",
        "\n",
        "CNB = ComplementNB(alpha=4.0, class_prior=None, fit_prior=True, norm=False).fit(X_train, y_train)\n",
        "y_pred = CNB.predict(X_test)\n",
        "print(\"Multinomial NB\")\n",
        "print(confusion_matrix(y_test, y_pred))\n",
        "print(\"Accuracy = \", accuracy_score(y_test, y_pred))\n",
        "print(\"f1_score = \", f1_score(y_test, y_pred, average='micro'))\n",
        "print(\"-------------------------------\")\n",
        "\n",
        "RF = RandomForestClassifier(n_estimators=100).fit(X_train, y_train)\n",
        "y_pred = RF.predict(X_test)\n",
        "print(\"Random Forest\")\n",
        "print(confusion_matrix(y_test, y_pred))\n",
        "print(\"Accuracy = \", accuracy_score(y_test, y_pred))\n",
        "print(\"f1_score = \", f1_score(y_test, y_pred, average='micro'))\n",
        "print(\"-------------------------------\")\n",
        "\n",
        "LSVC = LinearSVC().fit(X_train, y_train)\n",
        "y_pred = LSVC.predict(X_test)\n",
        "print(\"Linear SVC\")\n",
        "print(confusion_matrix(y_test, y_pred))\n",
        "print(\"Accuracy = \", accuracy_score(y_test, y_pred))\n",
        "print(\"f1_score = \", f1_score(y_test, y_pred, average='micro'))\n",
        "print(\"-------------------------------\")\n",
        "\n",
        "models = [\n",
        "        ('RF', RandomForestClassifier(n_estimators=100)),\n",
        "        ('LR', LogisticRegression(random_state=0, solver='saga', multi_class='multinomial')),\n",
        "        ('CNB', ComplementNB(alpha=4.0, class_prior=None, fit_prior=True, norm=False)),\n",
        "        ('MNB', MultinomialNB(alpha=0.4, fit_prior=True, class_prior=None))\n",
        "    ]\n",
        "ensemble = VotingClassifier(models).ensemble.fit(X, y)\n",
        "y_pred = ensemble.predict(X_test)\n",
        "print('Ensemble of RF, LR, NB, MNB')\n",
        "print(confusion_matrix(y_test, y_pred))\n",
        "print(\"Accuracy = \", accuracy_score(y_test, y_pred))\n",
        "print(\"f1_score = \", f1_score(y_test, y_pred, average='micro'))\n",
        "print(\"-------------------------------\")"
      ],
      "execution_count": 0,
      "outputs": [
        {
          "output_type": "stream",
          "text": [
            "Standard models:\n"
          ],
          "name": "stdout"
        },
        {
          "output_type": "stream",
          "text": [
            "/usr/local/lib/python3.6/dist-packages/sklearn/linear_model/sag.py:337: ConvergenceWarning: The max_iter was reached which means the coef_ did not converge\n",
            "  \"the coef_ did not converge\", ConvergenceWarning)\n"
          ],
          "name": "stderr"
        },
        {
          "output_type": "stream",
          "text": [
            "Logistic Regression\n",
            "[[  0   0   0   0   2   1   1   1   2   3]\n",
            " [  0   1   0   2   2   6  11  11  22  20]\n",
            " [  0   0   1   7   7   8  19  56  55  57]\n",
            " [  0   1   4   5  14  29  68  80  91 127]\n",
            " [  0   0   4  13  33  48  78 107 158 210]\n",
            " [  0   2   9  16  37  47 101 164 192 255]\n",
            " [  0   3  14  23  47  82 156 236 295 354]\n",
            " [  0   3  11  61  62 120 221 308 448 536]\n",
            " [  0   0  15  51  97 140 223 404 526 684]\n",
            " [  0   3  21  62 109 202 309 500 651 835]]\n",
            "Accuracy =  0.1912\n",
            "f1_score =  0.1912\n",
            "-------------------------------\n",
            "Multinomial NB\n",
            "[[  0   0   0   1   0   1   1   2   3   2]\n",
            " [  5   8  11   8   8   5   9   8  11   2]\n",
            " [ 13  15  21  22  19  29  33  24  19  15]\n",
            " [ 22  29  47  58  54  32  62  49  37  29]\n",
            " [ 22  62  60  81  85  57 123  76  43  42]\n",
            " [ 39  70  97  85 109  83 110  84  79  67]\n",
            " [ 38 119 107 131 143 131 199 125 107 110]\n",
            " [ 92 156 187 200 218 151 247 202 154 163]\n",
            " [108 179 219 212 291 211 332 244 160 184]\n",
            " [116 239 266 262 361 274 367 301 228 278]]\n",
            "Accuracy =  0.1094\n",
            "f1_score =  0.1094\n",
            "-------------------------------\n",
            "Multinomial NB\n",
            "[[  0   0   0   0   0   1   2   2   3   2]\n",
            " [  0   0   0   0   5   7  16   6  15  26]\n",
            " [  0   0   1   6  16  15  49  31  42  50]\n",
            " [  0   1   5   8  26  27  97  63  82 110]\n",
            " [  0   0   4  15  38  51 157 106 131 149]\n",
            " [  0   1   4  19  49  60 164 127 183 216]\n",
            " [  0   1   1  23  45  90 280 173 266 331]\n",
            " [  0   3   9  41  92 106 375 281 382 481]\n",
            " [  0   1  14  38 119 144 470 331 452 571]\n",
            " [  0   2  13  61 158 175 530 420 557 776]]\n",
            "Accuracy =  0.1896\n",
            "f1_score =  0.18960000000000002\n",
            "-------------------------------\n",
            "Random Forest\n",
            "[[   0    0    0    0    0    0    0    1    2    7]\n",
            " [   0    0    0    0    0    0    1    4    6   64]\n",
            " [   0    0    0    0    0    0    0   12   49  149]\n",
            " [   0    0    0    0    0    0    1   27   95  296]\n",
            " [   0    0    0    0    0    0    2   35  118  496]\n",
            " [   0    0    0    0    0    0    3   51  154  615]\n",
            " [   0    0    0    0    0    0    9   65  256  880]\n",
            " [   0    0    0    0    0    0    3  131  316 1320]\n",
            " [   0    0    0    0    0    0   12  105  526 1497]\n",
            " [   0    0    0    0    0    0    7  133  525 2027]]\n",
            "Accuracy =  0.2693\n",
            "f1_score =  0.2693\n",
            "-------------------------------\n"
          ],
          "name": "stdout"
        },
        {
          "output_type": "stream",
          "text": [
            "/usr/local/lib/python3.6/dist-packages/sklearn/svm/base.py:929: ConvergenceWarning: Liblinear failed to converge, increase the number of iterations.\n",
            "  \"the number of iterations.\", ConvergenceWarning)\n"
          ],
          "name": "stderr"
        },
        {
          "output_type": "stream",
          "text": [
            "Linear SVC\n",
            "[[  0   0   1   1   2   1   1   2   1   1]\n",
            " [  2   2   1   2   2   4  17  12  20  13]\n",
            " [  0   2   2  11  11  18  26  49  45  46]\n",
            " [  0   3   6  10  21  52  69  83  87  88]\n",
            " [  1   3  15  30  42  66  87 118 137 152]\n",
            " [  1   7  18  21  66  70 119 164 165 192]\n",
            " [  2  11  31  24  80 115 176 273 250 248]\n",
            " [  4  11  35  64 111 174 266 321 380 404]\n",
            " [  1  12  31  78 140 211 333 378 454 502]\n",
            " [  4  17  33  94 180 249 411 512 574 618]]\n",
            "Accuracy =  0.1695\n",
            "f1_score =  0.1695\n",
            "-------------------------------\n"
          ],
          "name": "stdout"
        },
        {
          "output_type": "error",
          "ename": "AttributeError",
          "evalue": "ignored",
          "traceback": [
            "\u001b[0;31m---------------------------------------------------------------------------\u001b[0m",
            "\u001b[0;31mAttributeError\u001b[0m                            Traceback (most recent call last)",
            "\u001b[0;32m<ipython-input-1-92d358c066dc>\u001b[0m in \u001b[0;36m<module>\u001b[0;34m()\u001b[0m\n\u001b[1;32m     85\u001b[0m         \u001b[0;34m(\u001b[0m\u001b[0;34m'MNB'\u001b[0m\u001b[0;34m,\u001b[0m \u001b[0mMultinomialNB\u001b[0m\u001b[0;34m(\u001b[0m\u001b[0malpha\u001b[0m\u001b[0;34m=\u001b[0m\u001b[0;36m0.4\u001b[0m\u001b[0;34m,\u001b[0m \u001b[0mfit_prior\u001b[0m\u001b[0;34m=\u001b[0m\u001b[0;32mTrue\u001b[0m\u001b[0;34m,\u001b[0m \u001b[0mclass_prior\u001b[0m\u001b[0;34m=\u001b[0m\u001b[0;32mNone\u001b[0m\u001b[0;34m)\u001b[0m\u001b[0;34m)\u001b[0m\u001b[0;34m\u001b[0m\u001b[0;34m\u001b[0m\u001b[0m\n\u001b[1;32m     86\u001b[0m     ]\n\u001b[0;32m---> 87\u001b[0;31m \u001b[0mensemble\u001b[0m \u001b[0;34m=\u001b[0m \u001b[0mVotingClassifier\u001b[0m\u001b[0;34m(\u001b[0m\u001b[0mmodels\u001b[0m\u001b[0;34m)\u001b[0m\u001b[0;34m.\u001b[0m\u001b[0mensemble\u001b[0m\u001b[0;34m.\u001b[0m\u001b[0mfit\u001b[0m\u001b[0;34m(\u001b[0m\u001b[0mX\u001b[0m\u001b[0;34m,\u001b[0m \u001b[0my\u001b[0m\u001b[0;34m)\u001b[0m\u001b[0;34m\u001b[0m\u001b[0;34m\u001b[0m\u001b[0m\n\u001b[0m\u001b[1;32m     88\u001b[0m \u001b[0my_pred\u001b[0m \u001b[0;34m=\u001b[0m \u001b[0mensemble\u001b[0m\u001b[0;34m.\u001b[0m\u001b[0mpredict\u001b[0m\u001b[0;34m(\u001b[0m\u001b[0mX_test\u001b[0m\u001b[0;34m)\u001b[0m\u001b[0;34m\u001b[0m\u001b[0;34m\u001b[0m\u001b[0m\n\u001b[1;32m     89\u001b[0m \u001b[0mprint\u001b[0m\u001b[0;34m(\u001b[0m\u001b[0;34m'Ensemble of RF, LR, NB, MNB'\u001b[0m\u001b[0;34m)\u001b[0m\u001b[0;34m\u001b[0m\u001b[0;34m\u001b[0m\u001b[0m\n",
            "\u001b[0;31mAttributeError\u001b[0m: 'VotingClassifier' object has no attribute 'ensemble'"
          ]
        }
      ]
    }
  ]
}